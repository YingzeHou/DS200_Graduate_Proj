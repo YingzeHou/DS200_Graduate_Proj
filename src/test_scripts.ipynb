{
 "cells": [
  {
   "cell_type": "code",
   "execution_count": 2,
   "metadata": {},
   "outputs": [
    {
     "name": "stdout",
     "output_type": "stream",
     "text": [
      "Elapsed time at index 0: 0 units (whatever these units are)\n",
      "Elapsed time at index 1: 8 units (whatever these units are)\n",
      "Elapsed time at index 2: 19 units (whatever these units are)\n",
      "Elapsed time at index 3: -1268008869 units (whatever these units are)\n"
     ]
    }
   ],
   "source": [
    "# Sample list of timestamps (replace with your actual list)\n",
    "timestamps = [1408898746, 1408898754, 1408898765, 140889877]\n",
    "\n",
    "# Extract the starting timestamp\n",
    "start_timestamp = timestamps[0]\n",
    "\n",
    "# Calculate the time elapsed between each timestamp and the starting timestamp\n",
    "elapsed_times = [ts - start_timestamp for ts in timestamps]\n",
    "\n",
    "# You can print or use the elapsed_times list as needed\n",
    "for i, elapsed_time in enumerate(elapsed_times):\n",
    "    print(f\"Elapsed time at index {i}: {elapsed_time} units (whatever these units are)\")\n",
    "\n"
   ]
  }
 ],
 "metadata": {
  "kernelspec": {
   "display_name": "Python 3",
   "language": "python",
   "name": "python3"
  },
  "language_info": {
   "codemirror_mode": {
    "name": "ipython",
    "version": 3
   },
   "file_extension": ".py",
   "mimetype": "text/x-python",
   "name": "python",
   "nbconvert_exporter": "python",
   "pygments_lexer": "ipython3",
   "version": "3.11.6"
  }
 },
 "nbformat": 4,
 "nbformat_minor": 2
}
